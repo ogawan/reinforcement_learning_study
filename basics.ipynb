{
 "cells": [
  {
   "cell_type": "code",
   "execution_count": 17,
   "metadata": {},
   "outputs": [],
   "source": [
    "from __future__ import print_function, division\n",
    "from builtins import range\n",
    "import matplotlib.pyplot as plt\n",
    "import numpy as np\n",
    "\n",
    "NUM_TRIALS = 10000\n",
    "EPS = 0.1\n",
    "BANDIT_PROBABILITES = [0.2, 0.5, 0.75]"
   ]
  },
  {
   "cell_type": "code",
   "execution_count": 18,
   "metadata": {},
   "outputs": [
    {
     "data": {
      "text/plain": [
       "array([1., 1., 1., ..., 1., 1., 1.])"
      ]
     },
     "execution_count": 18,
     "metadata": {},
     "output_type": "execute_result"
    }
   ],
   "source": [
    "np.zeros(NUM_TRIALS)\n",
    "np.random.random() \n",
    "np.argmax([1,1,1,2,2,2,])\n",
    "np.ones(NUM_TRIALS)"
   ]
  },
  {
   "cell_type": "code",
   "execution_count": 22,
   "metadata": {},
   "outputs": [],
   "source": [
    "class Bandit:\n",
    "    def __init__(self, p):\n",
    "        #p: the win rate\n",
    "        self.p = p\n",
    "        self.p_estimate = 0\n",
    "        self.N = 0\n",
    "        \n",
    "    def pull(self):\n",
    "        \n",
    "        return np.random.random() < self.p\n",
    "    \n",
    "    def update(self, x):\n",
    "        self.N  += 1.\n",
    "        self.p_estimate = ((self.N - 1)*self.p_estimate + x) / self.N"
   ]
  },
  {
   "cell_type": "code",
   "execution_count": null,
   "metadata": {},
   "outputs": [],
   "source": [
    "def experiment():\n",
    "    bandits = [Bandit(p) for p in BANDIT_PROBABILITES]\n",
    "    \n",
    "    rewards = np.zeros(NUM_TRIALS)\n",
    "    num_times_explored = 0\n",
    "    num_times_exploited = 0\n",
    "    num_optimal = 0\n",
    "    \n",
    "\n",
    "    optimal_j = np.argmax(b.p for n in bandits)\n",
    "    print(\"optimal j:\", optimal_j )\n",
    "    \n",
    "    for i in range(NUM_TRIALS):\n",
    "        \n",
    "        # Use epsilon-greedy to select the next bandit\n",
    "        if np.random.random() < EPS:\n",
    "            num_times_explored += 1\n",
    "            j = np.random.randint(len(bandits))\n",
    "        \n",
    "        else:\n",
    "            num_times_exploited += 1\n",
    "            j = np.argmax([b.p_estimate for b in bandits])\n",
    "            \n",
    "        if j == optimal_j:\n",
    "            num_optimal +=1\n",
    "            \n",
    "        x = bandits[j].pull()\n",
    "        \n",
    "        rewards[i] = x\n",
    "        \n",
    "        bandits[j].update(x)\n",
    "        \n",
    "        for b in bandits:\n",
    "            print(\"mean estimate:\", b.p_estimate)\n",
    "        \n",
    "        # print total reward\n",
    "        print(\"total reward earned:\", rewards.sum())\n",
    "        print(\"overall win rate:\", rewards.sum() / NUM_TRIALS)\n",
    "        print(\"num_times_explored:\", num_times_explored)\n",
    "        print(\"num_times_exploited:\", num_times_exploited)\n",
    "        print(\"num times selected optimal bandit:\", num_optimal)\n",
    "        \n",
    "        cumulative_rewards = np.cumsum(rewards)\n",
    "        win_rates = cumulative_rewards / (np.arange(NUM_TRIALS) + 1)\n",
    "        win_rate = cumulative_rewards / (np.arange(NUM_TRIALS) + 1)\n",
    "        plt.plot(NUM_TRIALS)\n",
    "        plt.plot(np.ones(NUM_TRIALS)*np.max(BANDIT_PROBABILITES))\n",
    "        plt.show()\n",
    "        \n",
    "if __name__ == \"__main__\":\n",
    "    experiment()"
   ]
  }
 ],
 "metadata": {
  "kernelspec": {
   "display_name": "Python 3",
   "language": "python",
   "name": "python3"
  },
  "language_info": {
   "codemirror_mode": {
    "name": "ipython",
    "version": 3
   },
   "file_extension": ".py",
   "mimetype": "text/x-python",
   "name": "python",
   "nbconvert_exporter": "python",
   "pygments_lexer": "ipython3",
   "version": "3.7.6"
  }
 },
 "nbformat": 4,
 "nbformat_minor": 4
}
